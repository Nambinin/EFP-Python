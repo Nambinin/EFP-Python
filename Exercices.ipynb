{
 "cells": [
  {
   "cell_type": "markdown",
   "metadata": {},
   "source": [
    "# Day 1: Arrays\n"
   ]
  },
  {
   "cell_type": "code",
   "execution_count": 20,
   "metadata": {},
   "outputs": [
    {
     "name": "stdout",
     "output_type": "stream",
     "text": [
      "[3, 4]\n"
     ]
    }
   ],
   "source": [
    "'''\n",
    "Given an array of integers and an integer target , \n",
    "we will return the indices of two numbers such that \n",
    "they add up to target\n",
    "'''\n",
    "\n",
    "# Array of integers\n",
    "my_array = [3,2,4,1,12,9,5,8]\n",
    "\n",
    "# Targe\n",
    "target = 13\n",
    "\n",
    "\n",
    "def indices_of_sum(my_array, target, ):\n",
    "    stor_index = {}\n",
    "    \n",
    "    for i, number in enumerate(my_array):\n",
    "        # Calculate the complement\n",
    "        complement = target - number\n",
    "        \n",
    "        # Check if the complement is store list\n",
    "        if complement in stor_index:\n",
    "            # Return the indices of the two numbers\n",
    "            return [stor_index[complement], i]\n",
    "        \n",
    "        # Store the current number and its index\n",
    "        stor_index[number] = i\n",
    "    \n",
    "    return []\n",
    "\n",
    "print(indices_of_sum(my_array, target))  # Output: [0, 1]\n"
   ]
  },
  {
   "cell_type": "code",
   "execution_count": null,
   "metadata": {},
   "outputs": [],
   "source": []
  }
 ],
 "metadata": {
  "kernelspec": {
   "display_name": "Python 3",
   "language": "python",
   "name": "python3"
  },
  "language_info": {
   "codemirror_mode": {
    "name": "ipython",
    "version": 3
   },
   "file_extension": ".py",
   "mimetype": "text/x-python",
   "name": "python",
   "nbconvert_exporter": "python",
   "pygments_lexer": "ipython3",
   "version": "3.7.4"
  }
 },
 "nbformat": 4,
 "nbformat_minor": 2
}
