{
 "cells": [
  {
   "cell_type": "markdown",
   "metadata": {},
   "source": [
    "# Day 1: Arrays\n"
   ]
  },
  {
   "cell_type": "code",
   "execution_count": 1,
   "metadata": {},
   "outputs": [
    {
     "name": "stdout",
     "output_type": "stream",
     "text": [
      "[3, 4]\n"
     ]
    }
   ],
   "source": [
    "'''\n",
    "Given an array of integers and an integer target , \n",
    "we will return the indices of two numbers such that \n",
    "they add up to target\n",
    "'''\n",
    "\n",
    "# Array of integers\n",
    "my_array = [3,2,4,1,12,9,5,8]\n",
    "\n",
    "# Targe\n",
    "target = 13\n",
    "\n",
    "\n",
    "def indices_of_sum(my_array, target, ):\n",
    "    stor_index = {}\n",
    "    \n",
    "    for i, number in enumerate(my_array):\n",
    "        # Calculate the complement\n",
    "        complement = target - number\n",
    "        \n",
    "        # Check if the complement is store list\n",
    "        if complement in stor_index:\n",
    "            # Return the indices of the two numbers\n",
    "            return [stor_index[complement], i]\n",
    "        \n",
    "        # Store the current number and its index\n",
    "        stor_index[number] = i\n",
    "    \n",
    "    \n",
    "    return []\n",
    "\n",
    "print(indices_of_sum(my_array, target))  \n"
   ]
  },
  {
   "cell_type": "markdown",
   "metadata": {},
   "source": [
    "# Day 2: Array"
   ]
  },
  {
   "cell_type": "code",
   "execution_count": null,
   "metadata": {},
   "outputs": [
    {
     "name": "stdout",
     "output_type": "stream",
     "text": [
      "Maximum subarray sum for nums1: 6\n"
     ]
    }
   ],
   "source": []
  },
  {
   "cell_type": "markdown",
   "metadata": {},
   "source": [
    "# Day 3: Array"
   ]
  },
  {
   "cell_type": "code",
   "execution_count": null,
   "metadata": {},
   "outputs": [],
   "source": []
  },
  {
   "cell_type": "code",
   "execution_count": 29,
   "metadata": {
    "scrolled": true
   },
   "outputs": [
    {
     "name": "stdout",
     "output_type": "stream",
     "text": [
      "Add your number of object:15\n",
      "This is the list of the random object: ['blue', 'red', 'red', 'blue', 'blue', 'red', 'blue', 'blue', 'white', 'blue', 'white', 'red', 'blue', 'red', 'white']\n",
      "This is the sorted list: ['red', 'red', 'red', 'red', 'red', 'white', 'white', 'white', 'blue', 'blue', 'blue', 'blue', 'blue', 'blue', 'blue']\n"
     ]
    }
   ],
   "source": [
    "import random\n",
    "\n",
    "object_list = [\"red\", 'white', \"blue\"] #list of object\n",
    "random_object = [] #Empty list\n",
    "sort_object = [] #Sorted list\n",
    "#Ask user to add the number of object\n",
    "number_object= int(input(\"Add your number of object:\"))\n",
    "\n",
    "#generate a list of random object\n",
    "for n in range(number_object):\n",
    "    #print(object_list[random.randint(0,3)])\n",
    "    random_object.append(object_list[random.randint(0,2)])\n",
    "print(f\"This is the list of the random object: {random_object}\")\n",
    "\n",
    "#sort the random list as red, white, blue\n",
    "\n",
    "for obj in object_list:\n",
    "    for obj_color in random_object:\n",
    "        if obj is obj_color:\n",
    "            sort_object.append(obj_color)\n",
    "print(f\"This is the sorted list: {sort_object}\")\n",
    "    "
   ]
  },
  {
   "cell_type": "code",
   "execution_count": 22,
   "metadata": {},
   "outputs": [
    {
     "data": {
      "text/plain": [
       "3"
      ]
     },
     "execution_count": 22,
     "metadata": {},
     "output_type": "execute_result"
    }
   ],
   "source": []
  },
  {
   "cell_type": "markdown",
   "metadata": {},
   "source": [
    "# Day 4: Array"
   ]
  },
  {
   "cell_type": "code",
   "execution_count": 48,
   "metadata": {},
   "outputs": [
    {
     "name": "stdout",
     "output_type": "stream",
     "text": [
      "The 1th quadruplet is [1, 2, 3, 8]\n",
      "The 2th quadruplet is [2, 3, 4, 5]\n",
      "The 3th quadruplet is [0, 2, 3, 9]\n",
      "The 4th quadruplet is [1, 2, 5, 6]\n",
      "The 5th quadruplet is [1, 2, 4, 7]\n",
      "The 6th quadruplet is [0, 1, 2, 11]\n",
      "The 7th quadruplet is [0, 2, 5, 7]\n",
      "The 8th quadruplet is [0, 2, 4, 8]\n",
      "The 9th quadruplet is [1, 3, 4, 6]\n",
      "The 10th quadruplet is [0, 1, 3, 10]\n",
      "The 11th quadruplet is [0, 3, 5, 6]\n",
      "The 12th quadruplet is [0, 3, 4, 7]\n",
      "The 13th quadruplet is [0, 1, 5, 8]\n",
      "The 14th quadruplet is [0, 1, 4, 9]\n",
      "The 15th quadruplet is [0, 1, 6, 7]\n"
     ]
    }
   ],
   "source": [
    "'''\n",
    "Given an array nums of n integers, return an array of all the unique quadruplets\n",
    "[nums[a], nums[b], nums[c], nums[d]] such that:\n",
    "0<= a, b, c, d < n\n",
    "a, b, c and d are distinct\n",
    "nums[a]+ nums[b]+nums[c]+ nums[d] == target\n",
    "\n",
    "'''\n",
    "\n",
    "target = 14\n",
    "nums = [2, 3, 1, 5, 12, 3, 4, 6, 9, 7, 8, 10, 0, 11]\n",
    "quadruplets = []\n",
    "l = len(nums)\n",
    "number = 0\n",
    "\n",
    "for a in range(l):\n",
    "    #print(nums[a])\n",
    "    for b in range(a+1,l):\n",
    "        #print(nums[b])\n",
    "        for c in range(b+1,l):\n",
    "            #print(nums[c])\n",
    "            for d in range(c+1,l):\n",
    "                if nums[a] + nums[b] + nums[c] + nums[d] == target:\n",
    "                    # a, b, c, and d are distinct\n",
    "                    if nums[a] != nums[b] and nums[a] != nums[c] and nums[a] != nums[d] and \\\n",
    "                       nums[b] != nums[c] and nums[b] != nums[d] and nums[c] != nums[d]:\n",
    "                        # Sort the quadruplet\n",
    "                        quadruplet = sorted([nums[a], nums[b], nums[c], nums[d]])\n",
    "                        # check if the quadruplet is already in the list\n",
    "                        if quadruplet not in quadruplets:\n",
    "                            quadruplets.append(quadruplet)\n",
    "                            print(f\"The {number + 1}th quadruplet is {quadruplet}\")\n",
    "                            number += 1"
   ]
  },
  {
   "cell_type": "code",
   "execution_count": 37,
   "metadata": {},
   "outputs": [
    {
     "data": {
      "text/plain": [
       "True"
      ]
     },
     "execution_count": 37,
     "metadata": {},
     "output_type": "execute_result"
    }
   ],
   "source": []
  },
  {
   "cell_type": "code",
   "execution_count": 34,
   "metadata": {},
   "outputs": [
    {
     "data": {
      "text/plain": [
       "True"
      ]
     },
     "execution_count": 34,
     "metadata": {},
     "output_type": "execute_result"
    }
   ],
   "source": []
  },
  {
   "cell_type": "markdown",
   "metadata": {},
   "source": [
    "# Day 5: Array"
   ]
  },
  {
   "cell_type": "markdown",
   "metadata": {},
   "source": [
    "# Day 6: Array"
   ]
  },
  {
   "cell_type": "markdown",
   "metadata": {},
   "source": [
    "# Day 7: Array"
   ]
  },
  {
   "cell_type": "markdown",
   "metadata": {},
   "source": [
    "# Day 8: Array"
   ]
  },
  {
   "cell_type": "markdown",
   "metadata": {},
   "source": [
    "# Day 9: Array"
   ]
  },
  {
   "cell_type": "markdown",
   "metadata": {},
   "source": [
    "# Day 10: Array"
   ]
  },
  {
   "cell_type": "markdown",
   "metadata": {},
   "source": [
    "# Day 11: Array"
   ]
  },
  {
   "cell_type": "markdown",
   "metadata": {},
   "source": [
    "# Day 12: Array"
   ]
  },
  {
   "cell_type": "markdown",
   "metadata": {},
   "source": [
    "# Day 13: Array"
   ]
  },
  {
   "cell_type": "markdown",
   "metadata": {},
   "source": [
    "# Day 14: Array"
   ]
  },
  {
   "cell_type": "markdown",
   "metadata": {},
   "source": [
    "# Day 15: Array"
   ]
  },
  {
   "cell_type": "markdown",
   "metadata": {},
   "source": [
    "# Day 16: Array"
   ]
  },
  {
   "cell_type": "markdown",
   "metadata": {},
   "source": [
    "# Day 17: Array"
   ]
  },
  {
   "cell_type": "markdown",
   "metadata": {},
   "source": [
    "# Day 18: Array"
   ]
  },
  {
   "cell_type": "markdown",
   "metadata": {},
   "source": [
    "# Day 19: Array"
   ]
  },
  {
   "cell_type": "markdown",
   "metadata": {},
   "source": [
    "# Day 20: Array"
   ]
  },
  {
   "cell_type": "code",
   "execution_count": null,
   "metadata": {},
   "outputs": [],
   "source": [
    "DA"
   ]
  }
 ],
 "metadata": {
  "kernelspec": {
   "display_name": "Python 3",
   "language": "python",
   "name": "python3"
  },
  "language_info": {
   "codemirror_mode": {
    "name": "ipython",
    "version": 3
   },
   "file_extension": ".py",
   "mimetype": "text/x-python",
   "name": "python",
   "nbconvert_exporter": "python",
   "pygments_lexer": "ipython3",
   "version": "3.7.4"
  }
 },
 "nbformat": 4,
 "nbformat_minor": 2
}
